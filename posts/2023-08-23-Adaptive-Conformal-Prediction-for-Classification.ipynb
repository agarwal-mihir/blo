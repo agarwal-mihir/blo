{
 "cells": [
  {
   "cell_type": "raw",
   "metadata": {},
   "source": [
    "---\n",
    "aliases:\n",
    "- /Conformal/2023/08/23/Adaptive-Conformal-Prediction-for-Classification\n",
    "author: Mihir Agarwal\n",
    "badges: true\n",
    "categories:\n",
    "- ML\n",
    "- Uncertainty\n",
    "- Conformal Prediction\n",
    "date: '2023-08-23'\n",
    "output-file: 2023-08-23-Adaptive-Conformal-Prediction-for-Classification.html\n",
    "title: Adaptive Conformal Prediction for Classification\n",
    "toc: true\n",
    "---\n"
   ]
  },
  {
   "cell_type": "markdown",
   "metadata": {},
   "source": [
    "# Adaptive Conformal Prediction for Uncertainty Estimation in Classification\n",
    "\n",
    "In this section, we introduce a procedure for obtaining uncertainty estimates for classification predictions using Conformal Prediction. We start with an initial heuristic notion of uncertainty based on the softmax outputs of the model's predictions. The goal is to refine this heuristic using the rigorous framework of conformal prediction.\n",
    "\n",
    "1. **Initial Heuristic Uncertainty**:\n",
    "   We begin with a pre-trained model that generates predictions for a given input $x$. The model provides a set of softmax probabilities $\\pi_1(x), \\ldots, \\pi_K(x)$, where $K$ is the number of classes. We greedily include classes in the set until we reach the true label $y$, stopping at that point. This procedure, while not perfect, gives us an initial heuristic notion of uncertainty. However, we aim to transform this into a more rigorous notion.\n",
    "\n",
    "2. **Defining the Score Function**:\n",
    "   We define a score function $s(x, y)$ that reflects the uncertainty. The score function aggregates the softmax outputs of all classes and stops at the true label $y$:\n",
    "   \n",
    "\n",
    "   $$s(x, y) = \\sum_{j=1}^k \\pi_j(x) \\quad \\text{where } y = \\pi_k(x)$$\n",
    "   \n",
    "   Unlike the score used earlier, this function considers all class probabilities, not just the true class.\n",
    "\n",
    "3. **Quantile Computation**:\n",
    "   The next step is to compute the quantile $\\hat{q}$ for the score function. We set $\\hat{q}$ as the $(d(n+1)(1-\\alpha))/n$ quantile of scores $s_1, \\ldots, s_n$, where $n$ is the number of calibration instances and $d$ is the number of potential classes.\n",
    "\n",
    "4. **Forming the Prediction Set**:\n",
    "   To create the prediction set, we modify the procedure slightly to avoid zero-size sets. We construct the set $\\pi_1(x), \\ldots, \\pi_k(x)$ where $k = \\sup\\{ k' : k' = 0 \\text{ or } \\sum_{j=1}^{k'} \\pi_j(x) < \\hat{q} \\} + 1$.\n",
    "\n",
    "By applying this conformal prediction procedure, we enhance the heuristic uncertainty into a more rigorous and reliable notion. The resulting prediction set $C(x)$ provides insights into the uncertainty associated with the model's predictions for input $x$, enhancing the model's reliability in classification tasks.\n"
   ]
  },
  {
   "cell_type": "code",
   "execution_count": 62,
   "metadata": {},
   "outputs": [],
   "source": [
    "import torch\n",
    "import torch.nn as nn\n",
    "import numpy as np\n",
    "import matplotlib.pyplot as plt\n",
    "from tqdm.auto import trange, tqdm\n",
    "import torchvision.datasets as datasets\n",
    "import torchvision.transforms as transforms\n",
    "torch.manual_seed(42)\n",
    "np.random.seed(42)"
   ]
  },
  {
   "cell_type": "code",
   "execution_count": 63,
   "metadata": {},
   "outputs": [],
   "source": [
    "def get_data():\n",
    "    train_dataset = datasets.MNIST(root='blogs/posts/data', train=True, download=True)\n",
    "    test_dataset = datasets.MNIST(root='blogs/posts/data', train=False, download=True)\n",
    "\n",
    "    X_train, y_train = train_dataset.data.float() / 255.0, train_dataset.targets\n",
    "    X_test, y_test = test_dataset.data.float() / 255.0, test_dataset.targets\n",
    "\n",
    "    X_train = X_train.view(-1, 28*28)\n",
    "    X_test = X_test.view(-1, 28*28)\n",
    "\n",
    "    X_calib, X_train = X_train[59500:], X_train[:59500]\n",
    "    y_calib, y_train = y_train[59500:], y_train[:59500]\n",
    "\n",
    "    return X_train, y_train, X_test, y_test, X_calib, y_calib"
   ]
  },
  {
   "cell_type": "code",
   "execution_count": 64,
   "metadata": {},
   "outputs": [],
   "source": [
    "X_train, y_train, X_test, y_test, X_calib, y_calib = get_data()"
   ]
  },
  {
   "cell_type": "code",
   "execution_count": 65,
   "metadata": {},
   "outputs": [],
   "source": [
    "class MLP(nn.Module):\n",
    "    def __init__(self):\n",
    "        super(MLP, self).__init__()\n",
    "        self.fc1 = nn.Linear(784, 32)\n",
    "        self.relu = nn.ReLU()\n",
    "        self.sigmoid1 = nn.Sigmoid()\n",
    "        self.fc2 = nn.Linear(32, 10)\n",
    "        \n",
    "    def forward(self, x):\n",
    "        x = self.relu(self.fc1(x))\n",
    "        x = self.fc2(x)\n",
    "        return x"
   ]
  },
  {
   "cell_type": "code",
   "execution_count": 66,
   "metadata": {},
   "outputs": [],
   "source": [
    "def train(_net, _train_data):\n",
    "    X_train, y_train = _train_data\n",
    "    train_dataset = torch.utils.data.TensorDataset(X_train, y_train)\n",
    "    train_loader = torch.utils.data.DataLoader(train_dataset, batch_size=64, shuffle=True)\n",
    "\n",
    "    criterion = nn.CrossEntropyLoss()\n",
    "    optimizer = torch.optim.Adam(_net.parameters(), lr=0.001)\n",
    "    num_epochs = 1\n",
    "    \n",
    "    for epoch in range(num_epochs):\n",
    "        _net.train()\n",
    "        running_loss = 0.0\n",
    "        running_accuracy = 0.0\n",
    "\n",
    "        for batch_idx, (inputs, targets) in enumerate(train_loader):\n",
    "            optimizer.zero_grad()\n",
    "            outputs = _net(inputs)\n",
    "            loss = criterion(outputs, targets)\n",
    "            loss.backward()\n",
    "            optimizer.step()\n",
    "\n",
    "            running_loss += loss.item()\n",
    "  \n",
    "    return _net"
   ]
  },
  {
   "cell_type": "code",
   "execution_count": 67,
   "metadata": {},
   "outputs": [],
   "source": [
    "net = MLP()\n",
    "net = train(net, (X_train, y_train))\n"
   ]
  },
  {
   "cell_type": "code",
   "execution_count": 68,
   "metadata": {},
   "outputs": [
    {
     "name": "stdout",
     "output_type": "stream",
     "text": [
      "accuracy : 0.9197999835014343\n"
     ]
    }
   ],
   "source": [
    "y_test_pred = torch.argmax(net(X_test), dim = 1)\n",
    "accuracy = (y_test_pred == y_test).sum()/len(y_test)\n",
    "print(f\"accuracy : {accuracy}\")\n"
   ]
  },
  {
   "cell_type": "code",
   "execution_count": 69,
   "metadata": {},
   "outputs": [],
   "source": [
    "n = 500"
   ]
  },
  {
   "cell_type": "code",
   "execution_count": 70,
   "metadata": {},
   "outputs": [],
   "source": [
    "cal_smx, val_smx = net(X_calib).softmax(dim = 1).detach().numpy(), net(X_test).softmax(dim = 1).detach().numpy()\n",
    "cal_labels, val_labels = y_calib.numpy(), y_test.numpy()"
   ]
  },
  {
   "cell_type": "code",
   "execution_count": 71,
   "metadata": {},
   "outputs": [
    {
     "data": {
      "text/plain": [
       "(500, 10)"
      ]
     },
     "execution_count": 71,
     "metadata": {},
     "output_type": "execute_result"
    }
   ],
   "source": [
    "cal_smx.shape"
   ]
  },
  {
   "cell_type": "code",
   "execution_count": 72,
   "metadata": {},
   "outputs": [],
   "source": [
    "alpha = 0.3"
   ]
  },
  {
   "cell_type": "code",
   "execution_count": 73,
   "metadata": {},
   "outputs": [
    {
     "name": "stderr",
     "output_type": "stream",
     "text": [
      "/var/folders/jk/w0z8m7r15qz2bq604dfvr16h0000gn/T/ipykernel_6326/361661335.py:8: DeprecationWarning: the `interpolation=` argument to quantile was renamed to `method=`, which has additional options.\n",
      "Users of the modes 'nearest', 'lower', 'higher', or 'midpoint' are encouraged to review the method they used. (Deprecated NumPy 1.22)\n",
      "  qhat = np.quantile(\n"
     ]
    }
   ],
   "source": [
    "cal_pi = cal_smx.argsort(1)[:, ::-1]\n",
    "cal_srt = np.take_along_axis(cal_smx, cal_pi, axis=1).cumsum(axis=1)\n",
    "cal_scores = np.take_along_axis(cal_srt, cal_pi.argsort(axis=1), axis=1)[\n",
    "    range(n), cal_labels\n",
    "]\n",
    "# Get the score quantile\n",
    "\n",
    "qhat = np.quantile(\n",
    "    cal_scores, np.ceil((n + 1) * (1 - alpha)) / n, interpolation=\"higher\"\n",
    ")\n",
    "# Deploy (output=list of length n, each element is tensor of classes)\n",
    "val_pi = val_smx.argsort(1)[:, ::-1]\n",
    "val_srt = np.take_along_axis(val_smx, val_pi, axis=1).cumsum(axis=1)\n",
    "prediction_sets = np.take_along_axis(val_srt <= qhat, val_pi.argsort(axis=1), axis=1)"
   ]
  },
  {
   "cell_type": "code",
   "execution_count": 74,
   "metadata": {},
   "outputs": [
    {
     "name": "stdout",
     "output_type": "stream",
     "text": [
      "The empirical coverage is: 0.7293\n"
     ]
    }
   ],
   "source": [
    "# Calculate empirical coverage\n",
    "empirical_coverage = prediction_sets[\n",
    "    np.arange(prediction_sets.shape[0]), val_labels\n",
    "].mean()\n",
    "print(f\"The empirical coverage is: {empirical_coverage}\")"
   ]
  },
  {
   "cell_type": "code",
   "execution_count": 75,
   "metadata": {},
   "outputs": [
    {
     "data": {
      "image/png": "[encoded data removed]",
      "text/plain": [
       "<Figure size 1200x300 with 2 Axes>"
      ]
     },
     "metadata": {},
     "output_type": "display_data"
    },
    {
     "data": {
      "text/plain": [
       "(None,)"
      ]
     },
     "execution_count": 75,
     "metadata": {},
     "output_type": "execute_result"
    }
   ],
   "source": [
    "fig, ax = plt.subplots(1, 2, figsize=(12, 3))\n",
    "# Plot scores of calibration data\n",
    "ax[0].bar(np.arange(len(cal_scores)), height = cal_scores, alpha = 0.7, color = 'b')\n",
    "ax[0].set_ylabel(\"Score\")\n",
    "ax[0].set_xlabel(\"Calibration Data Points\")\n",
    "ax[0].set_title(\"Scores of Calibration Data\")\n",
    "\n",
    "# Plot the histogram\n",
    "n, bins, _ = ax[1].hist(cal_scores, bins=30, alpha=0.7, cumulative = True, color='#E94B3CFF', edgecolor='black', label='Score Frequency')\n",
    "ax[1].axvline(qhat, color='b', linestyle='dashed', linewidth=2, label=r\"Quantile (${q_{val}}$ = \" + str((\"{:.2f}\")).format(qhat) + \")\")\n",
    "ax[1].set_xlabel('Scores')\n",
    "ax[1].set_ylabel('Frequency')\n",
    "ax[1].set_title('Histogram of Scores with Quantile Line')\n",
    "plt.show(),"
   ]
  },
  {
   "cell_type": "code",
   "execution_count": 76,
   "metadata": {},
   "outputs": [],
   "source": [
    "def class_label(i):\n",
    "    labels = {0: \"0\", 1: \"1\", 2: \"2\", 3: \"3\", 4: \"4\", \n",
    "                5: \"5\", 6: \"6\", 7: \"7\", 8: \"8\", 9: \"9\"}\n",
    "    return labels[i]"
   ]
  },
  {
   "cell_type": "code",
   "execution_count": 77,
   "metadata": {},
   "outputs": [],
   "source": [
    "def get_pred_str(pred):\n",
    "    pred_str = \"{\"\n",
    "    for i in pred:\n",
    "        pred_str += class_label(i) + ', '  # Use comma instead of space\n",
    "    pred_str = pred_str.rstrip(', ') + \"}\"  # Remove the trailing comma and add closing curly brace\n",
    "    return pred_str\n"
   ]
  },
  {
   "cell_type": "code",
   "execution_count": 78,
   "metadata": {},
   "outputs": [
    {
     "data": {
      "image/png": "[encoded data removed]",
      "text/plain": [
       "<Figure size 640x480 with 1 Axes>"
      ]
     },
     "metadata": {},
     "output_type": "display_data"
    },
    {
     "name": "stdout",
     "output_type": "stream",
     "text": [
      "The prediction set is: {1, 2, 3, 4, 5, 6, 8, 9}\n"
     ]
    }
   ],
   "source": [
    "index = 300\n",
    "img_pi = val_smx[index].argsort()[::-1]\n",
    "img_srt = np.take_along_axis(val_smx[index], img_pi, axis=0).cumsum()\n",
    "prediction_set = np.take_along_axis(img_srt <= qhat, img_pi.argsort(), axis=0)\n",
    "plt.figure()\n",
    "plt.imshow(X_calib[index].reshape(28, 28), cmap=\"gray\")\n",
    "plt.axis(\"off\")\n",
    "plt.show()\n",
    "print(f\"The prediction set is: {get_pred_str(prediction_set.nonzero()[0].tolist())}\")"
   ]
  }
 ],
 "metadata": {
  "kernelspec": {
   "display_name": "srip",
   "language": "python",
   "name": "python3"
  },
  "language_info": {
   "codemirror_mode": {
    "name": "ipython",
    "version": 3
   },
   "file_extension": ".py",
   "mimetype": "text/x-python",
   "name": "python",
   "nbconvert_exporter": "python",
   "pygments_lexer": "ipython3",
   "version": "3.10.9"
  },
  "orig_nbformat": 4
 },
 "nbformat": 4,
 "nbformat_minor": 2
}
